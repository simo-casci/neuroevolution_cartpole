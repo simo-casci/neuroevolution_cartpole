{
 "cells": [
  {
   "cell_type": "code",
   "execution_count": 1,
   "metadata": {},
   "outputs": [],
   "source": [
    "import gym\n",
    "import io\n",
    "import base64\n",
    "from IPython.display import HTML\n",
    "import numpy as np\n",
    "import random\n",
    "import matplotlib.pyplot as plt\n",
    "import keras\n",
    "from keras.layers import *\n",
    "from keras.models import Model\n",
    "from keras.optimizers import Adam"
   ]
  },
  {
   "cell_type": "code",
   "execution_count": 2,
   "metadata": {},
   "outputs": [],
   "source": [
    "env = gym.make('CartPole-v0')"
   ]
  },
  {
   "cell_type": "code",
   "execution_count": 3,
   "metadata": {},
   "outputs": [],
   "source": [
    "OBS_S = env.observation_space.shape[0]\n",
    "ACT_S = env.action_space.n"
   ]
  },
  {
   "cell_type": "code",
   "execution_count": 4,
   "metadata": {},
   "outputs": [],
   "source": [
    "def cm():\n",
    "    inp = Input((OBS_S))\n",
    "    x = Dense(24, activation='relu')(inp)\n",
    "    x = Dense(24, activation='relu')(x)\n",
    "    x = Dense(ACT_S, activation='softmax')(x)    \n",
    "    m = Model(inp, x)\n",
    "    return m"
   ]
  },
  {
   "cell_type": "code",
   "execution_count": 5,
   "metadata": {},
   "outputs": [],
   "source": [
    "def cross(m1, m2, mgf=cm):\n",
    "    l = len(m1.get_weights()) // 2\n",
    "    w = []\n",
    "    for i in range(len(m1.get_weights())):\n",
    "        if i < l:\n",
    "            w.append(m1.get_weights()[i])\n",
    "        else:\n",
    "            w.append(m2.get_weights()[i])\n",
    "    m = mgf() # function for model generation\n",
    "    m.set_weights(w)\n",
    "    return m"
   ]
  },
  {
   "cell_type": "code",
   "execution_count": 6,
   "metadata": {},
   "outputs": [],
   "source": [
    "def mut(m, mu=0, sigma=0.1):\n",
    "    m1 = cm(); m1.set_weights(m.get_weights())\n",
    "    w = []\n",
    "    for i in range(len(m1.get_weights())):\n",
    "        ow = m1.get_weights()[i]\n",
    "        nw = np.add(ow, np.random.normal(mu, sigma, size=(ow.shape)))\n",
    "        w.append(nw)\n",
    "    m1.set_weights(w)\n",
    "    return m1"
   ]
  },
  {
   "cell_type": "code",
   "execution_count": 7,
   "metadata": {},
   "outputs": [],
   "source": [
    "def pick(p, s, a):\n",
    "    i = np.argmax(s)\n",
    "    a.append(p[i])\n",
    "    s[i] = -float('inf')"
   ]
  },
  {
   "cell_type": "code",
   "execution_count": 8,
   "metadata": {},
   "outputs": [],
   "source": [
    "def play(pop):\n",
    "    s = []\n",
    "    env = gym.make('CartPole-v0')\n",
    "    for i in range(len(pop)):\n",
    "        obs = env.reset()\n",
    "        tr = 0\n",
    "        while True:\n",
    "            a = np.argmax(pop[i].predict(obs.reshape(1, OBS_S)))\n",
    "            obs, r, done, _ = env.step(a)\n",
    "            tr += r\n",
    "            if done:\n",
    "                s.append(tr)\n",
    "                break\n",
    "    return s"
   ]
  },
  {
   "cell_type": "code",
   "execution_count": 9,
   "metadata": {},
   "outputs": [],
   "source": [
    "PSZ = 20 # population size\n",
    "MRT = .4 # mutation rate\n",
    "EP = 50 # episodes"
   ]
  },
  {
   "cell_type": "code",
   "execution_count": 10,
   "metadata": {},
   "outputs": [
    {
     "name": "stdout",
     "output_type": "stream",
     "text": [
      "(1, 200.0)\n",
      "(2, 120.0)\n",
      "(3, 44.0)\n",
      "(4, 81.0)\n",
      "(5, 122.0)\n",
      "(6, 145.0)\n",
      "(7, 177.0)\n",
      "(8, 132.0)\n",
      "(9, 200.0)\n",
      "(10, 200.0)\n",
      "(11, 200.0)\n",
      "(12, 200.0)\n",
      "\n",
      "\n",
      "CartPole solved after 12 episodes\n"
     ]
    }
   ],
   "source": [
    "c = 0\n",
    "pop = []\n",
    "rm = []\n",
    "for i in range(PSZ):\n",
    "    pop.append(cm())\n",
    "    \n",
    "for i in range(EP):\n",
    "    c += 1\n",
    "    s = play(pop)\n",
    "    print((c, np.max(s)))\n",
    "    rm.append(np.max(s))\n",
    "    if np.max(s) == 200 and i > 10:\n",
    "        print('\\n')\n",
    "        print(f'CartPole solved after {c} episodes')\n",
    "        break\n",
    "    par = []\n",
    "    for j in range(2):\n",
    "        pick(pop, s, par)\n",
    "    cr = cross(par[0], par[1])\n",
    "    pop = []\n",
    "    pop.append(par[0])\n",
    "    pop.append(par[1])\n",
    "    for j in range(PSZ-len(par)):\n",
    "        r = random.random()\n",
    "        if r < MRT:\n",
    "            pop.append(mut(cr))\n",
    "        else:\n",
    "            pop.append(cr)"
   ]
  },
  {
   "cell_type": "code",
   "execution_count": 11,
   "metadata": {},
   "outputs": [
    {
     "data": {
      "image/png": "[encoded data removed]",
      "text/plain": [
       "<Figure size 432x288 with 1 Axes>"
      ]
     },
     "metadata": {
      "needs_background": "light"
     },
     "output_type": "display_data"
    }
   ],
   "source": [
    "plt.plot(rm)\n",
    "plt.title('CartPole-v0 NEAT')\n",
    "plt.xlabel('Epoch')\n",
    "plt.ylabel('Steps (best)')\n",
    "plt.show()"
   ]
  },
  {
   "cell_type": "code",
   "execution_count": 12,
   "metadata": {},
   "outputs": [],
   "source": [
    "m = pop[np.argmax(s)]"
   ]
  },
  {
   "cell_type": "code",
   "execution_count": 13,
   "metadata": {},
   "outputs": [
    {
     "name": "stdout",
     "output_type": "stream",
     "text": [
      "(1, 200.0)\n",
      "(2, 200.0)\n",
      "(3, 200.0)\n",
      "(4, 200.0)\n",
      "(5, 200.0)\n",
      "(6, 200.0)\n",
      "(7, 200.0)\n",
      "(8, 200.0)\n",
      "(9, 200.0)\n",
      "(10, 200.0)\n"
     ]
    }
   ],
   "source": [
    "env = gym.make('CartPole-v0')\n",
    "c = 0\n",
    "for i in range(10):\n",
    "    tr = 0\n",
    "    obs = env.reset()\n",
    "    c += 1\n",
    "    while True:\n",
    "        a = np.argmax(m.predict(obs.reshape(1, OBS_S)))\n",
    "        obs, r, done, _ = env.step(a)\n",
    "        tr += r\n",
    "        if done:\n",
    "            print((c, tr))\n",
    "            break    "
   ]
  }
 ],
 "metadata": {
  "kernelspec": {
   "display_name": "Python 3",
   "language": "python",
   "name": "python3"
  },
  "language_info": {
   "codemirror_mode": {
    "name": "ipython",
    "version": 3
   },
   "file_extension": ".py",
   "mimetype": "text/x-python",
   "name": "python",
   "nbconvert_exporter": "python",
   "pygments_lexer": "ipython3",
   "version": "3.8.5"
  }
 },
 "nbformat": 4,
 "nbformat_minor": 4
}
